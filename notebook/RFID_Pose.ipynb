{
 "cells": [
  {
   "cell_type": "code",
   "id": "initial_id",
   "metadata": {
    "collapsed": true,
    "ExecuteTime": {
     "end_time": "2025-07-07T09:14:18.365859Z",
     "start_time": "2025-07-07T09:14:18.332436Z"
    }
   },
   "source": [
    "import torch\n",
    "import yaml\n",
    "import numpy as np\n",
    "from models import KinematicNet\n",
    "from utils.DataProcessor import DataProcessor\n",
    "from utils.Visualization import plot_3d_line\n",
    "\n",
    "# 加载配置和模型\n",
    "with open(\"../configs/model.yaml\") as f:\n",
    "    cfg = yaml.safe_load(f)[\"model\"]\n",
    "model = KinematicNet(**cfg).eval()\n",
    "model.load_state_dict(torch.load(cfg[\"weights_path\"]))"
   ],
   "outputs": [
    {
     "ename": "TypeError",
     "evalue": "KinematicNet.__init__() got an unexpected keyword argument 'name'",
     "output_type": "error",
     "traceback": [
      "\u001B[31m---------------------------------------------------------------------------\u001B[39m",
      "\u001B[31mTypeError\u001B[39m                                 Traceback (most recent call last)",
      "\u001B[36mCell\u001B[39m\u001B[36m \u001B[39m\u001B[32mIn[2]\u001B[39m\u001B[32m, line 11\u001B[39m\n\u001B[32m      9\u001B[39m \u001B[38;5;28;01mwith\u001B[39;00m \u001B[38;5;28mopen\u001B[39m(\u001B[33m\"\u001B[39m\u001B[33m../configs/model.yaml\u001B[39m\u001B[33m\"\u001B[39m) \u001B[38;5;28;01mas\u001B[39;00m f:\n\u001B[32m     10\u001B[39m     cfg = yaml.safe_load(f)[\u001B[33m\"\u001B[39m\u001B[33mmodel\u001B[39m\u001B[33m\"\u001B[39m]\n\u001B[32m---> \u001B[39m\u001B[32m11\u001B[39m model = \u001B[43mKinematicNet\u001B[49m\u001B[43m(\u001B[49m\u001B[43m*\u001B[49m\u001B[43m*\u001B[49m\u001B[43mcfg\u001B[49m\u001B[43m)\u001B[49m.eval()\n\u001B[32m     12\u001B[39m model.load_state_dict(torch.load(cfg[\u001B[33m\"\u001B[39m\u001B[33mweights_path\u001B[39m\u001B[33m\"\u001B[39m]))\n",
      "\u001B[31mTypeError\u001B[39m: KinematicNet.__init__() got an unexpected keyword argument 'name'"
     ]
    }
   ],
   "execution_count": 2
  },
  {
   "metadata": {
    "ExecuteTime": {
     "end_time": "2025-07-05T07:51:54.186097Z",
     "start_time": "2025-07-05T07:51:54.160499Z"
    }
   },
   "cell_type": "code",
   "source": [
    "processor = DataProcessor()\n",
    "rfid_raw = processor.load_raw_data(\"../data/rfid_raw.csv\")\n",
    "\n",
    "joint_tags = {\n",
    "    \"0\": \"Pelvis\",\n",
    "    \"1\": \"Neck\",\n",
    "    \"2\": \"L_Hip\",\n",
    "    \"3\": \"L_Knee\",\n",
    "    \"4\": \"R_Hip\",\n",
    "    \"5\": \"R_Knee\",\n",
    "    \"6\": \"L_Shoulder\",\n",
    "    \"7\": \"L_Elbow\",\n",
    "    \"8\": \"L_Wrist\",\n",
    "    \"9\": \"R_Shoulder\",\n",
    "    \"10\": \"R_Elbow\",\n",
    "    \"11\": \"R_Wrist\"\n",
    "}\n",
    "\n",
    "processed = processor.run_pipeline(\n",
    "    rfid_raw,\n",
    "    tags=joint_tags,\n",
    "    window_ms=125,\n",
    "    interpolation=True\n",
    ")"
   ],
   "id": "92b1e567aa39b7ee",
   "outputs": [
    {
     "ename": "NameError",
     "evalue": "name 'DataProcessor' is not defined",
     "output_type": "error",
     "traceback": [
      "\u001B[31m---------------------------------------------------------------------------\u001B[39m",
      "\u001B[31mNameError\u001B[39m                                 Traceback (most recent call last)",
      "\u001B[36mCell\u001B[39m\u001B[36m \u001B[39m\u001B[32mIn[6]\u001B[39m\u001B[32m, line 1\u001B[39m\n\u001B[32m----> \u001B[39m\u001B[32m1\u001B[39m processor = \u001B[43mDataProcessor\u001B[49m()\n\u001B[32m      2\u001B[39m rfid_raw = processor.load_raw_data(\u001B[33m\"\u001B[39m\u001B[33m../data/rfid_raw.csv\u001B[39m\u001B[33m\"\u001B[39m)\n\u001B[32m      4\u001B[39m joint_tags = {\n\u001B[32m      5\u001B[39m     \u001B[33m\"\u001B[39m\u001B[33m0\u001B[39m\u001B[33m\"\u001B[39m: \u001B[33m\"\u001B[39m\u001B[33mPelvis\u001B[39m\u001B[33m\"\u001B[39m,\n\u001B[32m      6\u001B[39m     \u001B[33m\"\u001B[39m\u001B[33m1\u001B[39m\u001B[33m\"\u001B[39m: \u001B[33m\"\u001B[39m\u001B[33mNeck\u001B[39m\u001B[33m\"\u001B[39m,\n\u001B[32m   (...)\u001B[39m\u001B[32m     16\u001B[39m     \u001B[33m\"\u001B[39m\u001B[33m11\u001B[39m\u001B[33m\"\u001B[39m: \u001B[33m\"\u001B[39m\u001B[33mR_Wrist\u001B[39m\u001B[33m\"\u001B[39m\n\u001B[32m     17\u001B[39m }\n",
      "\u001B[31mNameError\u001B[39m: name 'DataProcessor' is not defined"
     ]
    }
   ],
   "execution_count": 6
  },
  {
   "metadata": {},
   "cell_type": "code",
   "outputs": [],
   "execution_count": null,
   "source": [
    "# %%\n",
    "# 模型推理\n",
    "with torch.no_grad():\n",
    "    input_tensor = torch.tensor(processed.values).float().unsqueeze(0)\n",
    "    joints_3d = model(input_tensor).squeeze().numpy()  # [12, 3]"
   ],
   "id": "656de1a933899f99"
  },
  {
   "metadata": {},
   "cell_type": "code",
   "outputs": [],
   "execution_count": null,
   "source": [
    "# %%\n",
    "# 可视化结果\n",
    "plot_3d_line(joints_3d.reshape(-1, 3))  # 绘制3D骨架"
   ],
   "id": "b5110c28d9532e57"
  }
 ],
 "metadata": {
  "kernelspec": {
   "display_name": "Python 3",
   "language": "python",
   "name": "python3"
  },
  "language_info": {
   "codemirror_mode": {
    "name": "ipython",
    "version": 2
   },
   "file_extension": ".py",
   "mimetype": "text/x-python",
   "name": "python",
   "nbconvert_exporter": "python",
   "pygments_lexer": "ipython2",
   "version": "2.7.6"
  }
 },
 "nbformat": 4,
 "nbformat_minor": 5
}
